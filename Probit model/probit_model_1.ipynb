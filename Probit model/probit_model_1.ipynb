{
 "cells": [
  {
   "cell_type": "code",
   "execution_count": 105,
   "metadata": {},
   "outputs": [],
   "source": [
    "import pandas as pd\n",
    "import numpy as np\n",
    "from scipy import stats\n",
    "import statsmodels.api as sm\n",
    "from statsmodels.discrete.discrete_model import Probit\n",
    "import scipy.stats as ss\n",
    "from imblearn.over_sampling import SMOTE\n",
    "from get_data import get_data_from_snowflake\n",
    "from sklearn.metrics import confusion_matrix,classification_report\n",
    "from sklearn.decomposition import PCA\n",
    "# make an ROC AUC curve on the graph\n",
    "from sklearn.metrics import roc_curve, roc_auc_score,auc\n",
    "from matplotlib import pyplot as plt"
   ]
  },
  {
   "cell_type": "code",
   "execution_count": 2,
   "metadata": {},
   "outputs": [],
   "source": [
    "from get_train_test import get_train_test_data \n",
    "equifax_data, arro_data = get_train_test_data()"
   ]
  },
  {
   "cell_type": "code",
   "execution_count": 3,
   "metadata": {},
   "outputs": [],
   "source": [
    "final_features = ['COUNT_NEG_BAL_OCC_0_180','NUM_INQ_24M','TOT_HIGH_CREDIT_OPEN_REVOLVING','TOTAL_BALANCE','PCT_BANKCARD_TO_TOT_TRADES',\n",
    "'SUM_INSURANCE_EXPENSE_TXN','TOT_UTIL_BANKCARD_TRADES','TOT_HIGH_CREDIT_OPEN_BANKCARD','COUNT_ASSET_DEPOSIT_TXN','TOT_PAST_DUE_BAL',\n",
    "'AGE_NEWEST_BANKCARD_TRADE','TOT_LOAN_AMT_OPEN_INSTALLMENT','AVG_SALARY_INCOME_TXN','PCT_TRADES_OPENED_12M_TO_TOT_TRADES','AGE_NEWEST_TRADE',\n",
    "'NUM_TRADES_WORST_EVER_60PLUSD_PAST_DUE','SUM_CASH_OUTFLOW_TRANSFERS','AGE_OLDEST_BANKCARD_TRADE','COUNT_NEG_BAL_OCC_0_30',\n",
    "'SUM_UTILITIES_EXPENSE_TXN','AVG_UTILITIES_EXPENSE_TXN','COUNT_TELECOM_EXPENSE_TXN_0_30','SUM_SALARY_INCOME_TXN_0_365',\n",
    "'TOT_BAL_REVOLVING_TRADES','NUM_OPEN_BANKCARD_TRADES_UTIL_GTE_75PCT','PCT_REVOLVING_TRADES_GOOD_6M_TO_REVOLVING_TRADES_6M']"
   ]
  },
  {
   "cell_type": "markdown",
   "metadata": {},
   "source": [
    "# Downsampled equifax and upsampled Arro"
   ]
  },
  {
   "cell_type": "markdown",
   "metadata": {},
   "source": [
    "#### Making the test set"
   ]
  },
  {
   "cell_type": "code",
   "execution_count": 4,
   "metadata": {},
   "outputs": [],
   "source": [
    "from get_testing_data import get_test_data\n",
    "arro_test = get_test_data()"
   ]
  },
  {
   "cell_type": "code",
   "execution_count": 5,
   "metadata": {},
   "outputs": [],
   "source": [
    "# make a test set\n",
    "test_set = equifax_data[final_features].sample(frac=0.01, random_state=42)\n",
    "full_test_set = pd.concat([test_set, arro_test[final_features]])\n",
    "target_test = np.concatenate([np.zeros(len(test_set[final_features])), np.ones(len(arro_test[final_features]))])\n",
    "# combine full_test_set and target_test\n",
    "full_test_set['Target'] = target_test"
   ]
  },
  {
   "cell_type": "code",
   "execution_count": 6,
   "metadata": {},
   "outputs": [],
   "source": [
    "# remove the test set from equifax_data\n",
    "equifax_train_data = equifax_data[final_features].drop(test_set.index)\n",
    "combined_data_features_selected = pd.concat([equifax_train_data[final_features], arro_data[final_features]], ignore_index=True)\n",
    "target_features_selected = np.concatenate([np.zeros(len(equifax_train_data[final_features])), np.ones(len(arro_data[final_features]))])"
   ]
  },
  {
   "cell_type": "markdown",
   "metadata": {},
   "source": [
    "#### Upsampling arro and downsampling equifax"
   ]
  },
  {
   "cell_type": "code",
   "execution_count": 7,
   "metadata": {},
   "outputs": [],
   "source": [
    "# upsample arro_data\n",
    "smote_upsampled = SMOTE(sampling_strategy=5000/len(equifax_train_data),random_state=42)\n",
    "combined_data_upsampled, target_upsampled = smote_upsampled.fit_resample(combined_data_features_selected, target_features_selected)\n",
    "\n",
    "full_data_upsampled = pd.concat([combined_data_upsampled, pd.DataFrame(target_upsampled)], axis=1)\n",
    "full_data_upsampled.rename(columns={0: 'Target'}, inplace=True)\n",
    "\n",
    "equifax_data_upsampled = full_data_upsampled[full_data_upsampled['Target'] == 0]\n",
    "arro_data_upsampled = full_data_upsampled[full_data_upsampled['Target'] == 1]\n",
    "\n",
    "# bootstrap arro\n",
    "bootstrapped_arro_data = arro_data_upsampled.sample(n=50000, replace=True,random_state=42)\n",
    "\n",
    "# downsample equifax \n",
    "desired_sample_size = 50000\n",
    "fraction_to_sample = desired_sample_size / len(equifax_train_data)\n",
    "downsampled_equifax_data = equifax_train_data[final_features].sample(frac=fraction_to_sample, random_state=42)  # set random seed for reproducibility"
   ]
  },
  {
   "cell_type": "code",
   "execution_count": 8,
   "metadata": {},
   "outputs": [
    {
     "name": "stdout",
     "output_type": "stream",
     "text": [
      "(100000, 26)\n",
      "(100000,)\n"
     ]
    }
   ],
   "source": [
    "# make dataset\n",
    "combined_data_whole = pd.concat([downsampled_equifax_data[final_features], bootstrapped_arro_data[final_features]], ignore_index=True)\n",
    "print(combined_data_whole.shape)\n",
    "# Create the target variable (0 for train, 1 for company_data)\n",
    "target_whole = np.concatenate([np.zeros(len(downsampled_equifax_data[final_features])), np.ones(len(bootstrapped_arro_data[final_features]))])\n",
    "print(target_whole.shape)"
   ]
  },
  {
   "cell_type": "code",
   "execution_count": 186,
   "metadata": {},
   "outputs": [],
   "source": [
    "def run_probit_model(X_train, y_train, full_test_set):\n",
    "    X = sm.add_constant(X_train)  # Add a constant column for the intercept\n",
    "    # Fit the probit model\n",
    "    model = sm.Probit(y_train, X)\n",
    "    result_whole = model.fit(method='bfgs', maxiter=100)\n",
    "    # predict on test set\n",
    "    X_test = sm.add_constant(full_test_set.drop('Target', axis=1))\n",
    "    y_pred = result_whole.predict(X_test)\n",
    "    y_pred = pd.DataFrame(y_pred)\n",
    "    y_pred.rename(columns={0: 'pred'}, inplace=True)\n",
    "    # get the threshold\n",
    "    threshold = 0.5\n",
    "    y_pred['pred'] = np.where(y_pred['pred'] > threshold, 1, 0)\n",
    "    y_pred['Target'] = target_test\n",
    "    y_pred['correct'] = np.where(y_pred['pred'] == y_pred['Target'], 1, 0)\n",
    "    print(\"Accuracy\",y_pred['correct'].sum() / len(y_pred))\n",
    "    print(\"Confusion matrix \\n\",confusion_matrix(y_pred['Target'].to_numpy(), y_pred['pred'].to_numpy()))\n",
    "    print(classification_report(y_pred['Target'], y_pred['pred']))\n",
    "    fpr, tpr, _ = roc_curve(full_test_set['Target'],result_whole.predict(X_test))\n",
    "    area = auc(fpr, tpr)\n",
    "    plt.figure()\n",
    "    plt.plot(fpr, tpr, color='green',lw=3,label='ROC curve (AUC = %0.5f)' % area)\n",
    "    plt.plot([0, 1], [0, 1], color='blue', lw=3, linestyle='--')\n",
    "    plt.xlabel('False Positive Rate')\n",
    "    plt.ylabel('True Positive Rate')\n",
    "    plt.title('ROC Curve')\n",
    "    plt.xlim([0.0, 1.0])\n",
    "    plt.ylim([0.0, 1.10])\n",
    "    plt.legend(loc=\"lower right\")\n",
    "    return result_whole.predict(X_test)"
   ]
  },
  {
   "cell_type": "markdown",
   "metadata": {},
   "source": [
    "# Model 4"
   ]
  },
  {
   "cell_type": "code",
   "execution_count": 185,
   "metadata": {},
   "outputs": [
    {
     "name": "stdout",
     "output_type": "stream",
     "text": [
      "Optimization terminated successfully.\n",
      "         Current function value: 0.179798\n",
      "         Iterations: 25\n",
      "         Function evaluations: 12431\n",
      "Accuracy 0.9408198614318707\n",
      "Confusion matrix \n",
      " [[3119  193]\n",
      " [  12  140]]\n",
      "              precision    recall  f1-score   support\n",
      "\n",
      "         0.0       1.00      0.94      0.97      3312\n",
      "         1.0       0.42      0.92      0.58       152\n",
      "\n",
      "    accuracy                           0.94      3464\n",
      "   macro avg       0.71      0.93      0.77      3464\n",
      "weighted avg       0.97      0.94      0.95      3464\n",
      "\n"
     ]
    },
    {
     "name": "stderr",
     "output_type": "stream",
     "text": [
      "/Users/vedaantibaliga/opt/anaconda3/envs/snowpark-de-ml/lib/python3.9/site-packages/statsmodels/discrete/discrete_model.py:2873: RuntimeWarning: invalid value encountered in divide\n",
      "  L = q*self.pdf(q*XB)/self.cdf(q*XB)\n",
      "/Users/vedaantibaliga/opt/anaconda3/envs/snowpark-de-ml/lib/python3.9/site-packages/statsmodels/base/model.py:595: HessianInversionWarning: Inverting hessian failed, no bse or cov_params available\n",
      "  warnings.warn('Inverting hessian failed, no bse or cov_params '\n"
     ]
    },
    {
     "data": {
      "image/png": "[encoded data removed]",
      "text/plain": [
       "<Figure size 432x288 with 1 Axes>"
      ]
     },
     "metadata": {
      "needs_background": "light"
     },
     "output_type": "display_data"
    }
   ],
   "source": [
    "probability_values = run_probit_model(combined_data_whole, target_whole, full_test_set)"
   ]
  },
  {
   "cell_type": "code",
   "execution_count": 36,
   "metadata": {},
   "outputs": [
    {
     "name": "stdout",
     "output_type": "stream",
     "text": [
      "335\n"
     ]
    }
   ],
   "source": [
    "# count where probability_values is 1\n",
    "print(len(probability_values[probability_values > 0.5]))"
   ]
  },
  {
   "cell_type": "markdown",
   "metadata": {},
   "source": [
    "# Standardized version"
   ]
  },
  {
   "cell_type": "code",
   "execution_count": 108,
   "metadata": {},
   "outputs": [],
   "source": [
    "def get_standardized_data(train_data, test_data):\n",
    "    def make_mean_std(df : pd.DataFrame):\n",
    "        mean = df.mean()\n",
    "        std = df.std()\n",
    "        def _standardize(this_df : pd.DataFrame) -> pd.DataFrame:\n",
    "            return (this_df - mean) / std\n",
    "        return _standardize\n",
    "    standardized_fn = make_mean_std(train_data)\n",
    "    standardized_train = standardized_fn(train_data)\n",
    "    standardized_test = standardized_fn(test_data)\n",
    "    combined_data = pd.concat([standardized_train, standardized_test], ignore_index=True)\n",
    "    # Create the target variable (0 for train, 1 for company_data)\n",
    "    target = np.concatenate([np.zeros(len(standardized_train)), np.ones(len(standardized_test))])\n",
    "    return combined_data, target, standardized_fn"
   ]
  },
  {
   "cell_type": "code",
   "execution_count": 109,
   "metadata": {},
   "outputs": [],
   "source": [
    "standardised_data, standardised_target, standardized_fn = get_standardized_data(downsampled_equifax_data[final_features], bootstrapped_arro_data[final_features])"
   ]
  },
  {
   "cell_type": "code",
   "execution_count": 110,
   "metadata": {},
   "outputs": [],
   "source": [
    "full_test_set_standardized = standardized_fn(full_test_set.drop('Target', axis=1))\n",
    "full_test_set_standardized['Target'] = target_test"
   ]
  },
  {
   "cell_type": "markdown",
   "metadata": {},
   "source": [
    "# Model 5"
   ]
  },
  {
   "cell_type": "code",
   "execution_count": 111,
   "metadata": {},
   "outputs": [
    {
     "name": "stdout",
     "output_type": "stream",
     "text": [
      "Warning: Desired error not necessarily achieved due to precision loss.\n",
      "         Current function value: 0.180134\n",
      "         Iterations: 73\n",
      "         Function evaluations: 136\n",
      "         Gradient evaluations: 124\n",
      "Accuracy 0.9393764434180139\n",
      "Confusion matrix \n",
      " [[3115  197]\n",
      " [  13  139]]\n",
      "              precision    recall  f1-score   support\n",
      "\n",
      "         0.0       1.00      0.94      0.97      3312\n",
      "         1.0       0.41      0.91      0.57       152\n",
      "\n",
      "    accuracy                           0.94      3464\n",
      "   macro avg       0.70      0.93      0.77      3464\n",
      "weighted avg       0.97      0.94      0.95      3464\n",
      "\n"
     ]
    },
    {
     "name": "stderr",
     "output_type": "stream",
     "text": [
      "/Users/vedaantibaliga/opt/anaconda3/envs/snowpark-de-ml/lib/python3.9/site-packages/statsmodels/discrete/discrete_model.py:2873: RuntimeWarning: invalid value encountered in divide\n",
      "  L = q*self.pdf(q*XB)/self.cdf(q*XB)\n",
      "/Users/vedaantibaliga/opt/anaconda3/envs/snowpark-de-ml/lib/python3.9/site-packages/statsmodels/base/model.py:595: HessianInversionWarning: Inverting hessian failed, no bse or cov_params available\n",
      "  warnings.warn('Inverting hessian failed, no bse or cov_params '\n",
      "/Users/vedaantibaliga/opt/anaconda3/envs/snowpark-de-ml/lib/python3.9/site-packages/statsmodels/base/model.py:607: ConvergenceWarning: Maximum Likelihood optimization failed to converge. Check mle_retvals\n",
      "  warnings.warn(\"Maximum Likelihood optimization failed to \"\n"
     ]
    },
    {
     "data": {
      "image/png": "[encoded data removed]",
      "text/plain": [
       "<Figure size 432x288 with 1 Axes>"
      ]
     },
     "metadata": {
      "needs_background": "light"
     },
     "output_type": "display_data"
    }
   ],
   "source": [
    "probability_values = run_probit_model(standardised_data, standardised_target, full_test_set_standardized)"
   ]
  },
  {
   "cell_type": "markdown",
   "metadata": {},
   "source": [
    "# Model 1"
   ]
  },
  {
   "cell_type": "markdown",
   "metadata": {},
   "source": [
    "# Simple Probit model (no upsampling/downsampling)"
   ]
  },
  {
   "cell_type": "code",
   "execution_count": 70,
   "metadata": {},
   "outputs": [],
   "source": [
    "simple_equifax_data = equifax_data.sample(frac=0.01, random_state=42)\n",
    "simple_test = pd.concat([simple_equifax_data, arro_test])\n",
    "simple_target_test = np.concatenate([np.zeros(len(simple_equifax_data)), np.ones(len(arro_test))])\n",
    "simple_test['Target'] = simple_target_test"
   ]
  },
  {
   "cell_type": "code",
   "execution_count": 71,
   "metadata": {},
   "outputs": [],
   "source": [
    "simple_combined_data = pd.concat([equifax_data.drop(test_set.index), arro_data])\n",
    "simple_target = np.concatenate([np.zeros(len(equifax_data.drop(test_set.index))), np.ones(len(arro_data))])"
   ]
  },
  {
   "cell_type": "code",
   "execution_count": 114,
   "metadata": {},
   "outputs": [
    {
     "name": "stdout",
     "output_type": "stream",
     "text": [
      "Optimization terminated successfully.\n",
      "         Current function value: 0.419657\n",
      "         Iterations: 2\n",
      "         Function evaluations: 10\n",
      "         Gradient evaluations: 10\n",
      "Accuracy 0.9561200923787528\n",
      "Confusion matrix \n",
      " [[3312    0]\n",
      " [ 152    0]]\n",
      "              precision    recall  f1-score   support\n",
      "\n",
      "         0.0       0.96      1.00      0.98      3312\n",
      "         1.0       0.00      0.00      0.00       152\n",
      "\n",
      "    accuracy                           0.96      3464\n",
      "   macro avg       0.48      0.50      0.49      3464\n",
      "weighted avg       0.91      0.96      0.93      3464\n",
      "\n"
     ]
    },
    {
     "name": "stderr",
     "output_type": "stream",
     "text": [
      "/Users/vedaantibaliga/opt/anaconda3/envs/snowpark-de-ml/lib/python3.9/site-packages/statsmodels/discrete/discrete_model.py:2873: RuntimeWarning: invalid value encountered in divide\n",
      "  L = q*self.pdf(q*XB)/self.cdf(q*XB)\n",
      "/Users/vedaantibaliga/opt/anaconda3/envs/snowpark-de-ml/lib/python3.9/site-packages/statsmodels/base/model.py:595: HessianInversionWarning: Inverting hessian failed, no bse or cov_params available\n",
      "  warnings.warn('Inverting hessian failed, no bse or cov_params '\n",
      "/Users/vedaantibaliga/opt/anaconda3/envs/snowpark-de-ml/lib/python3.9/site-packages/sklearn/metrics/_classification.py:1344: UndefinedMetricWarning: Precision and F-score are ill-defined and being set to 0.0 in labels with no predicted samples. Use `zero_division` parameter to control this behavior.\n",
      "  _warn_prf(average, modifier, msg_start, len(result))\n",
      "/Users/vedaantibaliga/opt/anaconda3/envs/snowpark-de-ml/lib/python3.9/site-packages/sklearn/metrics/_classification.py:1344: UndefinedMetricWarning: Precision and F-score are ill-defined and being set to 0.0 in labels with no predicted samples. Use `zero_division` parameter to control this behavior.\n",
      "  _warn_prf(average, modifier, msg_start, len(result))\n",
      "/Users/vedaantibaliga/opt/anaconda3/envs/snowpark-de-ml/lib/python3.9/site-packages/sklearn/metrics/_classification.py:1344: UndefinedMetricWarning: Precision and F-score are ill-defined and being set to 0.0 in labels with no predicted samples. Use `zero_division` parameter to control this behavior.\n",
      "  _warn_prf(average, modifier, msg_start, len(result))\n"
     ]
    },
    {
     "data": {
      "image/png": "[encoded data removed]",
      "text/plain": [
       "<Figure size 432x288 with 1 Axes>"
      ]
     },
     "metadata": {
      "needs_background": "light"
     },
     "output_type": "display_data"
    }
   ],
   "source": [
    "prob_simple_values = run_probit_model(simple_combined_data, simple_target, simple_test)"
   ]
  },
  {
   "cell_type": "code",
   "execution_count": 75,
   "metadata": {},
   "outputs": [
    {
     "data": {
      "text/plain": [
       "0.000000e+00     3458\n",
       "9.850919e-135       1\n",
       "7.312883e-95        1\n",
       "1.824598e-90        1\n",
       "1.824652e-247       1\n",
       "4.537859e-176       1\n",
       "9.850914e-135       1\n",
       "dtype: int64"
      ]
     },
     "execution_count": 75,
     "metadata": {},
     "output_type": "execute_result"
    }
   ],
   "source": [
    "# probit cant handle imbalanced data\n",
    "prob_simple_values.value_counts()"
   ]
  },
  {
   "cell_type": "markdown",
   "metadata": {},
   "source": [
    "# Selected features"
   ]
  },
  {
   "cell_type": "code",
   "execution_count": 163,
   "metadata": {},
   "outputs": [],
   "source": [
    "some_feautres = ['COUNT_NEG_BAL_OCC_0_180',\n",
    " 'NUM_INQ_24M',\n",
    " 'TOT_HIGH_CREDIT_OPEN_REVOLVING',\n",
    " 'TOTAL_BALANCE',\n",
    " 'PCT_BANKCARD_TO_TOT_TRADES',\n",
    " 'SUM_INSURANCE_EXPENSE_TXN',\n",
    " 'TOT_UTIL_BANKCARD_TRADES',\n",
    " 'TOT_HIGH_CREDIT_OPEN_BANKCARD',\n",
    " 'COUNT_ASSET_DEPOSIT_TXN',\n",
    " 'TOT_PAST_DUE_BAL',\n",
    " 'AGE_NEWEST_BANKCARD_TRADE',\n",
    " 'TOT_LOAN_AMT_OPEN_INSTALLMENT',\n",
    " 'AVG_SALARY_INCOME_TXN',\n",
    " 'PCT_TRADES_OPENED_12M_TO_TOT_TRADES',\n",
    " 'AGE_NEWEST_TRADE',\n",
    " 'NUM_TRADES_WORST_EVER_60PLUSD_PAST_DUE',\n",
    " 'SUM_CASH_OUTFLOW_TRANSFERS',\n",
    " 'AGE_OLDEST_BANKCARD_TRADE',\n",
    " 'COUNT_NEG_BAL_OCC_0_30',\n",
    " 'SUM_UTILITIES_EXPENSE_TXN',\n",
    " 'AVG_UTILITIES_EXPENSE_TXN',\n",
    " 'COUNT_TELECOM_EXPENSE_TXN_0_30',\n",
    " 'SUM_SALARY_INCOME_TXN_0_365',\n",
    " 'TOT_BAL_REVOLVING_TRADES',\n",
    " 'NUM_OPEN_BANKCARD_TRADES_UTIL_GTE_75PCT',\n",
    " 'PCT_REVOLVING_TRADES_GOOD_6M_TO_REVOLVING_TRADES_6M','Target']"
   ]
  },
  {
   "cell_type": "markdown",
   "metadata": {},
   "source": [
    "# Model 3"
   ]
  },
  {
   "cell_type": "code",
   "execution_count": 165,
   "metadata": {},
   "outputs": [
    {
     "name": "stdout",
     "output_type": "stream",
     "text": [
      "Optimization terminated successfully.\n",
      "         Current function value: 0.419657\n",
      "         Iterations: 2\n",
      "         Function evaluations: 10\n",
      "         Gradient evaluations: 10\n",
      "Accuracy 0.9561200923787528\n",
      "Confusion matrix \n",
      " [[3312    0]\n",
      " [ 152    0]]\n",
      "              precision    recall  f1-score   support\n",
      "\n",
      "         0.0       0.96      1.00      0.98      3312\n",
      "         1.0       0.00      0.00      0.00       152\n",
      "\n",
      "    accuracy                           0.96      3464\n",
      "   macro avg       0.48      0.50      0.49      3464\n",
      "weighted avg       0.91      0.96      0.93      3464\n",
      "\n"
     ]
    },
    {
     "name": "stderr",
     "output_type": "stream",
     "text": [
      "/Users/vedaantibaliga/opt/anaconda3/envs/snowpark-de-ml/lib/python3.9/site-packages/statsmodels/discrete/discrete_model.py:2873: RuntimeWarning: divide by zero encountered in divide\n",
      "  L = q*self.pdf(q*XB)/self.cdf(q*XB)\n",
      "/Users/vedaantibaliga/opt/anaconda3/envs/snowpark-de-ml/lib/python3.9/site-packages/statsmodels/discrete/discrete_model.py:2873: RuntimeWarning: invalid value encountered in divide\n",
      "  L = q*self.pdf(q*XB)/self.cdf(q*XB)\n",
      "/Users/vedaantibaliga/opt/anaconda3/envs/snowpark-de-ml/lib/python3.9/site-packages/statsmodels/discrete/discrete_model.py:2874: RuntimeWarning: invalid value encountered in multiply\n",
      "  return np.dot(-L*(L+XB)*X.T,X)\n",
      "/Users/vedaantibaliga/opt/anaconda3/envs/snowpark-de-ml/lib/python3.9/site-packages/statsmodels/base/model.py:595: HessianInversionWarning: Inverting hessian failed, no bse or cov_params available\n",
      "  warnings.warn('Inverting hessian failed, no bse or cov_params '\n",
      "/Users/vedaantibaliga/opt/anaconda3/envs/snowpark-de-ml/lib/python3.9/site-packages/sklearn/metrics/_classification.py:1344: UndefinedMetricWarning: Precision and F-score are ill-defined and being set to 0.0 in labels with no predicted samples. Use `zero_division` parameter to control this behavior.\n",
      "  _warn_prf(average, modifier, msg_start, len(result))\n",
      "/Users/vedaantibaliga/opt/anaconda3/envs/snowpark-de-ml/lib/python3.9/site-packages/sklearn/metrics/_classification.py:1344: UndefinedMetricWarning: Precision and F-score are ill-defined and being set to 0.0 in labels with no predicted samples. Use `zero_division` parameter to control this behavior.\n",
      "  _warn_prf(average, modifier, msg_start, len(result))\n",
      "/Users/vedaantibaliga/opt/anaconda3/envs/snowpark-de-ml/lib/python3.9/site-packages/sklearn/metrics/_classification.py:1344: UndefinedMetricWarning: Precision and F-score are ill-defined and being set to 0.0 in labels with no predicted samples. Use `zero_division` parameter to control this behavior.\n",
      "  _warn_prf(average, modifier, msg_start, len(result))\n"
     ]
    },
    {
     "data": {
      "image/png": "[encoded data removed]",
      "text/plain": [
       "<Figure size 432x288 with 1 Axes>"
      ]
     },
     "metadata": {
      "needs_background": "light"
     },
     "output_type": "display_data"
    }
   ],
   "source": [
    "prob_simple_values = run_probit_model(simple_combined_data[final_features], simple_target, simple_test[some_feautres])"
   ]
  },
  {
   "cell_type": "markdown",
   "metadata": {},
   "source": [
    "## Upsampled and downsampled for all features"
   ]
  },
  {
   "cell_type": "code",
   "execution_count": 133,
   "metadata": {},
   "outputs": [
    {
     "data": {
      "text/plain": [
       "327839"
      ]
     },
     "execution_count": 133,
     "metadata": {},
     "output_type": "execute_result"
    }
   ],
   "source": [
    "len(equifax_data.drop(test_set.index))"
   ]
  },
  {
   "cell_type": "code",
   "execution_count": 136,
   "metadata": {},
   "outputs": [],
   "source": [
    "# upsample arro_data\n",
    "smote_upsampled_simple = SMOTE(sampling_strategy=5000/len(equifax_data.drop(test_set.index)),random_state=42)\n",
    "combined_data_upsampled_simple, target_upsampled_simple = smote_upsampled_simple.fit_resample(simple_combined_data, simple_target)\n",
    "\n",
    "simple_full_data_upsampled = pd.concat([combined_data_upsampled_simple, pd.DataFrame(target_upsampled_simple)], axis=1)\n",
    "simple_full_data_upsampled.rename(columns={0: 'Target'}, inplace=True)\n",
    "\n",
    "simple_arro_data_upsampled = simple_full_data_upsampled[simple_full_data_upsampled['Target'] == 1]\n",
    "\n",
    "# bootstrap arro\n",
    "simple_bootstrapped_arro_data = simple_arro_data_upsampled.sample(n=50000, replace=True,random_state=42)\n",
    "\n",
    "# downsample equifax \n",
    "desired_sample_size = 50000\n",
    "fraction_to_sample = desired_sample_size / len(equifax_data.drop(test_set.index))\n",
    "simple_downsampled_equifax_data = equifax_data.drop(test_set.index).sample(frac=fraction_to_sample, random_state=42)  # set random seed for reproducibility"
   ]
  },
  {
   "cell_type": "code",
   "execution_count": 141,
   "metadata": {},
   "outputs": [
    {
     "name": "stdout",
     "output_type": "stream",
     "text": [
      "(100000, 45)\n",
      "(100000,)\n"
     ]
    }
   ],
   "source": [
    "# make dataset\n",
    "simple_combined_data_whole = pd.concat([simple_downsampled_equifax_data, simple_bootstrapped_arro_data.drop(columns={'Target'})], ignore_index=True)\n",
    "print(simple_combined_data_whole.shape)\n",
    "# Create the target variable (0 for train, 1 for company_data)\n",
    "simple_target_whole = np.concatenate([np.zeros(len(simple_downsampled_equifax_data)), np.ones(len(simple_bootstrapped_arro_data))])\n",
    "print(simple_target_whole.shape)"
   ]
  },
  {
   "cell_type": "markdown",
   "metadata": {},
   "source": [
    "# Model 2"
   ]
  },
  {
   "cell_type": "code",
   "execution_count": 145,
   "metadata": {},
   "outputs": [
    {
     "name": "stdout",
     "output_type": "stream",
     "text": [
      "Warning: Desired error not necessarily achieved due to precision loss.\n",
      "         Current function value: 0.169391\n",
      "         Iterations: 105\n",
      "         Function evaluations: 123\n",
      "         Gradient evaluations: 123\n",
      "Accuracy 0.9422632794457275\n",
      "Confusion matrix \n",
      " [[3125  187]\n",
      " [  13  139]]\n",
      "              precision    recall  f1-score   support\n",
      "\n",
      "         0.0       1.00      0.94      0.97      3312\n",
      "         1.0       0.43      0.91      0.58       152\n",
      "\n",
      "    accuracy                           0.94      3464\n",
      "   macro avg       0.71      0.93      0.78      3464\n",
      "weighted avg       0.97      0.94      0.95      3464\n",
      "\n"
     ]
    },
    {
     "name": "stderr",
     "output_type": "stream",
     "text": [
      "/Users/vedaantibaliga/opt/anaconda3/envs/snowpark-de-ml/lib/python3.9/site-packages/statsmodels/discrete/discrete_model.py:2873: RuntimeWarning: invalid value encountered in divide\n",
      "  L = q*self.pdf(q*XB)/self.cdf(q*XB)\n",
      "/Users/vedaantibaliga/opt/anaconda3/envs/snowpark-de-ml/lib/python3.9/site-packages/statsmodels/base/model.py:595: HessianInversionWarning: Inverting hessian failed, no bse or cov_params available\n",
      "  warnings.warn('Inverting hessian failed, no bse or cov_params '\n",
      "/Users/vedaantibaliga/opt/anaconda3/envs/snowpark-de-ml/lib/python3.9/site-packages/statsmodels/base/model.py:607: ConvergenceWarning: Maximum Likelihood optimization failed to converge. Check mle_retvals\n",
      "  warnings.warn(\"Maximum Likelihood optimization failed to \"\n"
     ]
    },
    {
     "data": {
      "image/png": "[encoded data removed]",
      "text/plain": [
       "<Figure size 432x288 with 1 Axes>"
      ]
     },
     "metadata": {
      "needs_background": "light"
     },
     "output_type": "display_data"
    }
   ],
   "source": [
    "prob_simple_values = run_probit_model(simple_combined_data_whole, simple_target_whole, simple_test)"
   ]
  },
  {
   "cell_type": "code",
   "execution_count": null,
   "metadata": {},
   "outputs": [],
   "source": []
  },
  {
   "cell_type": "markdown",
   "metadata": {},
   "source": [
    "## PCA inputs for Probit model"
   ]
  },
  {
   "cell_type": "code",
   "execution_count": 83,
   "metadata": {},
   "outputs": [],
   "source": [
    "pca = PCA(n_components=3)\n",
    "X_train_pca = pca.fit_transform(combined_data_whole)\n",
    "X_train_pca = pd.DataFrame({'PC1': X_train_pca[:, 0], 'PC2': X_train_pca[:, 1], 'PC3': X_train_pca[:, 2]})\n",
    "X_test_pca = pca.transform(full_test_set.drop('Target', axis=1))\n",
    "X_test_pca = pd.DataFrame({'PC1': X_test_pca[:, 0], 'PC2': X_test_pca[:, 1], 'PC3': X_test_pca[:, 2], 'Target': target_test})"
   ]
  },
  {
   "cell_type": "markdown",
   "metadata": {},
   "source": [
    "# Model 6"
   ]
  },
  {
   "cell_type": "code",
   "execution_count": 115,
   "metadata": {},
   "outputs": [
    {
     "name": "stdout",
     "output_type": "stream",
     "text": [
      "Warning: Desired error not necessarily achieved due to precision loss.\n",
      "         Current function value: 0.467053\n",
      "         Iterations: 11\n",
      "         Function evaluations: 77\n",
      "         Gradient evaluations: 65\n",
      "Accuracy 0.7040993071593533\n",
      "Confusion matrix \n",
      " [[2294 1018]\n",
      " [   7  145]]\n",
      "              precision    recall  f1-score   support\n",
      "\n",
      "         0.0       1.00      0.69      0.82      3312\n",
      "         1.0       0.12      0.95      0.22       152\n",
      "\n",
      "    accuracy                           0.70      3464\n",
      "   macro avg       0.56      0.82      0.52      3464\n",
      "weighted avg       0.96      0.70      0.79      3464\n",
      "\n"
     ]
    },
    {
     "name": "stderr",
     "output_type": "stream",
     "text": [
      "/Users/vedaantibaliga/opt/anaconda3/envs/snowpark-de-ml/lib/python3.9/site-packages/statsmodels/discrete/discrete_model.py:2873: RuntimeWarning: invalid value encountered in divide\n",
      "  L = q*self.pdf(q*XB)/self.cdf(q*XB)\n",
      "/Users/vedaantibaliga/opt/anaconda3/envs/snowpark-de-ml/lib/python3.9/site-packages/statsmodels/base/model.py:595: HessianInversionWarning: Inverting hessian failed, no bse or cov_params available\n",
      "  warnings.warn('Inverting hessian failed, no bse or cov_params '\n",
      "/Users/vedaantibaliga/opt/anaconda3/envs/snowpark-de-ml/lib/python3.9/site-packages/statsmodels/base/model.py:607: ConvergenceWarning: Maximum Likelihood optimization failed to converge. Check mle_retvals\n",
      "  warnings.warn(\"Maximum Likelihood optimization failed to \"\n"
     ]
    },
    {
     "data": {
      "image/png": "[encoded data removed]",
      "text/plain": [
       "<Figure size 432x288 with 1 Axes>"
      ]
     },
     "metadata": {
      "needs_background": "light"
     },
     "output_type": "display_data"
    }
   ],
   "source": [
    "pca_prob_values = run_probit_model(X_train_pca, target_whole, X_test_pca)"
   ]
  },
  {
   "cell_type": "markdown",
   "metadata": {},
   "source": [
    "# Model 7"
   ]
  },
  {
   "cell_type": "markdown",
   "metadata": {},
   "source": [
    "# Regularization with Probit"
   ]
  },
  {
   "cell_type": "code",
   "execution_count": 187,
   "metadata": {},
   "outputs": [],
   "source": [
    "def run_regularized_probit_model(X_train, y_train, full_test_set):\n",
    "    X = sm.add_constant(X_train)  # Add a constant column for the intercept\n",
    "    # Fit the probit model\n",
    "    model = sm.Probit(y_train, X)\n",
    "    # Fit the model using a regularized maximum likelihood.\n",
    "    result_whole = model.fit_regularized()\n",
    "    # predict on test set\n",
    "    X_test = sm.add_constant(full_test_set.drop('Target', axis=1))\n",
    "    y_pred = result_whole.predict(X_test)\n",
    "    y_pred = pd.DataFrame(y_pred)\n",
    "    y_pred.rename(columns={0: 'pred'}, inplace=True)\n",
    "    # get the threshold\n",
    "    threshold = 0.5\n",
    "    y_pred['pred'] = np.where(y_pred['pred'] > threshold, 1, 0)\n",
    "    y_pred['Target'] = target_test\n",
    "    y_pred['correct'] = np.where(y_pred['pred'] == y_pred['Target'], 1, 0)\n",
    "    print(\"Accuracy\",y_pred['correct'].sum() / len(y_pred))\n",
    "    print(\"Confusion matrix \\n\",confusion_matrix(y_pred['Target'].to_numpy(), y_pred['pred'].to_numpy()))\n",
    "    print(classification_report(y_pred['Target'], y_pred['pred']))\n",
    "    fpr, tpr, _ = roc_curve(full_test_set['Target'],result_whole.predict(X_test))\n",
    "    area = auc(fpr, tpr)\n",
    "    plt.figure()\n",
    "    plt.plot(fpr, tpr, color='green',lw=3,label='ROC curve (AUC = %0.5f)' % area)\n",
    "    plt.plot([0, 1], [0, 1], color='blue', lw=3, linestyle='--')\n",
    "    plt.xlabel('False Positive Rate')\n",
    "    plt.ylabel('True Positive Rate')\n",
    "    plt.title('ROC Curve')\n",
    "    plt.xlim([0.0, 1.0])\n",
    "    plt.ylim([0.0, 1.10])\n",
    "    plt.legend(loc=\"lower right\")\n",
    "    return result_whole.predict(X_test)"
   ]
  },
  {
   "cell_type": "code",
   "execution_count": 188,
   "metadata": {},
   "outputs": [
    {
     "name": "stdout",
     "output_type": "stream",
     "text": [
      "Optimization terminated successfully    (Exit mode 0)\n",
      "            Current function value: 18.025431059897485\n",
      "            Iterations: 2\n",
      "            Function evaluations: 12\n",
      "            Gradient evaluations: 2\n",
      "Accuracy 0.9561200923787528\n",
      "Confusion matrix \n",
      " [[3312    0]\n",
      " [ 152    0]]\n",
      "              precision    recall  f1-score   support\n",
      "\n",
      "         0.0       0.96      1.00      0.98      3312\n",
      "         1.0       0.00      0.00      0.00       152\n",
      "\n",
      "    accuracy                           0.96      3464\n",
      "   macro avg       0.48      0.50      0.49      3464\n",
      "weighted avg       0.91      0.96      0.93      3464\n",
      "\n",
      "                          Probit Regression Results                           \n",
      "==============================================================================\n",
      "Dep. Variable:                      y   No. Observations:               100000\n",
      "Model:                         Probit   Df Residuals:                    99973\n",
      "Method:                           MLE   Df Model:                           26\n",
      "Date:                Thu, 12 Oct 2023   Pseudo R-squ.:                  -25.01\n",
      "Time:                        12:06:11   Log-Likelihood:            -1.8025e+06\n",
      "converged:                       True   LL-Null:                       -69315.\n",
      "Covariance Type:            nonrobust   LLR p-value:                     1.000\n",
      "=======================================================================================================================\n",
      "                                                          coef    std err          z      P>|z|      [0.025      0.975]\n",
      "-----------------------------------------------------------------------------------------------------------------------\n",
      "const                                                2.017e-10        nan        nan        nan         nan         nan\n",
      "COUNT_NEG_BAL_OCC_0_180                                 0.0033        nan        nan        nan         nan         nan\n",
      "NUM_INQ_24M                                             0.0003        nan        nan        nan         nan         nan\n",
      "TOT_HIGH_CREDIT_OPEN_REVOLVING                         -6.1147        nan        nan        nan         nan         nan\n",
      "TOTAL_BALANCE                                          -3.7523        nan        nan        nan         nan         nan\n",
      "PCT_BANKCARD_TO_TOT_TRADES                             -0.1207        nan        nan        nan         nan         nan\n",
      "SUM_INSURANCE_EXPENSE_TXN                              -2.8554        nan        nan        nan         nan         nan\n",
      "TOT_UTIL_BANKCARD_TRADES                                0.1726        nan        nan        nan         nan         nan\n",
      "TOT_HIGH_CREDIT_OPEN_BANKCARD                          -3.5087        nan        nan        nan         nan         nan\n",
      "COUNT_ASSET_DEPOSIT_TXN                                 0.1097        nan        nan        nan         nan         nan\n",
      "TOT_PAST_DUE_BAL                                       -0.0322        nan        nan        nan         nan         nan\n",
      "AGE_NEWEST_BANKCARD_TRADE                              -0.0046        nan        nan        nan         nan         nan\n",
      "TOT_LOAN_AMT_OPEN_INSTALLMENT                         -25.4836        nan        nan        nan         nan         nan\n",
      "AVG_SALARY_INCOME_TXN                                  -0.1590        nan        nan        nan         nan         nan\n",
      "PCT_TRADES_OPENED_12M_TO_TOT_TRADES                     0.3500        nan        nan        nan         nan         nan\n",
      "AGE_NEWEST_TRADE                                       -0.0020        nan        nan        nan         nan         nan\n",
      "NUM_TRADES_WORST_EVER_60PLUSD_PAST_DUE                  0.0002        nan        nan        nan         nan         nan\n",
      "SUM_CASH_OUTFLOW_TRANSFERS                            -46.9824        nan        nan        nan         nan         nan\n",
      "AGE_OLDEST_BANKCARD_TRADE                              -0.0200        nan        nan        nan         nan         nan\n",
      "COUNT_NEG_BAL_OCC_0_30                                  0.0005        nan        nan        nan         nan         nan\n",
      "SUM_UTILITIES_EXPENSE_TXN                              -2.0558        nan        nan        nan         nan         nan\n",
      "AVG_UTILITIES_EXPENSE_TXN                              -0.0091        nan        nan        nan         nan         nan\n",
      "COUNT_TELECOM_EXPENSE_TXN_0_30                         -0.0002        nan        nan        nan         nan         nan\n",
      "SUM_SALARY_INCOME_TXN_0_365                            -0.3294        nan        nan        nan         nan         nan\n",
      "TOT_BAL_REVOLVING_TRADES                               -2.8810        nan        nan        nan         nan         nan\n",
      "NUM_OPEN_BANKCARD_TRADES_UTIL_GTE_75PCT              1.779e-05        nan        nan        nan         nan         nan\n",
      "PCT_REVOLVING_TRADES_GOOD_6M_TO_REVOLVING_TRADES_6M    -0.3090        nan        nan        nan         nan         nan\n",
      "=======================================================================================================================\n",
      "\n",
      "Possibly complete quasi-separation: A fraction 0.50 of observations can be\n",
      "perfectly predicted. This might indicate that there is complete\n",
      "quasi-separation. In this case some parameters will not be identified.\n"
     ]
    },
    {
     "name": "stderr",
     "output_type": "stream",
     "text": [
      "/Users/vedaantibaliga/opt/anaconda3/envs/snowpark-de-ml/lib/python3.9/site-packages/statsmodels/discrete/discrete_model.py:2873: RuntimeWarning: invalid value encountered in divide\n",
      "  L = q*self.pdf(q*XB)/self.cdf(q*XB)\n",
      "/Users/vedaantibaliga/opt/anaconda3/envs/snowpark-de-ml/lib/python3.9/site-packages/sklearn/metrics/_classification.py:1344: UndefinedMetricWarning: Precision and F-score are ill-defined and being set to 0.0 in labels with no predicted samples. Use `zero_division` parameter to control this behavior.\n",
      "  _warn_prf(average, modifier, msg_start, len(result))\n",
      "/Users/vedaantibaliga/opt/anaconda3/envs/snowpark-de-ml/lib/python3.9/site-packages/sklearn/metrics/_classification.py:1344: UndefinedMetricWarning: Precision and F-score are ill-defined and being set to 0.0 in labels with no predicted samples. Use `zero_division` parameter to control this behavior.\n",
      "  _warn_prf(average, modifier, msg_start, len(result))\n",
      "/Users/vedaantibaliga/opt/anaconda3/envs/snowpark-de-ml/lib/python3.9/site-packages/sklearn/metrics/_classification.py:1344: UndefinedMetricWarning: Precision and F-score are ill-defined and being set to 0.0 in labels with no predicted samples. Use `zero_division` parameter to control this behavior.\n",
      "  _warn_prf(average, modifier, msg_start, len(result))\n"
     ]
    },
    {
     "data": {
      "image/png": "[encoded data removed]",
      "text/plain": [
       "<Figure size 432x288 with 1 Axes>"
      ]
     },
     "metadata": {
      "needs_background": "light"
     },
     "output_type": "display_data"
    }
   ],
   "source": [
    "probability_values_regularized = run_regularized_probit_model(combined_data_whole, target_whole, full_test_set)"
   ]
  },
  {
   "cell_type": "markdown",
   "metadata": {},
   "source": [
    "# Doesn't work"
   ]
  },
  {
   "cell_type": "markdown",
   "metadata": {},
   "source": [
    "1. Make notes on what probit works\n",
    "2. Advantages and disadvantages\n",
    "3. Write about what you have done till now\n",
    "4. Try to show the graphs used\n"
   ]
  },
  {
   "cell_type": "code",
   "execution_count": 174,
   "metadata": {},
   "outputs": [],
   "source": [
    "['COUNT_NEG_BAL_OCC_0_180','NUM_INQ_24M','TOT_HIGH_CREDIT_OPEN_REVOLVING','TOTAL_BALANCE','PCT_BANKCARD_TO_TOT_TRADES','SUM_INSURANCE_EXPENSE_TXN',\n",
    "'TOT_UTIL_BANKCARD_TRADES','TOT_HIGH_CREDIT_OPEN_BANKCARD','COUNT_ASSET_DEPOSIT_TXN','TOT_PAST_DUE_BAL','AGE_NEWEST_BANKCARD_TRADE','TOT_LOAN_AMT_OPEN_INSTALLMENT',\n",
    "'AVG_SALARY_INCOME_TXN','PCT_TRADES_OPENED_12M_TO_TOT_TRADES','AGE_NEWEST_TRADE','NUM_TRADES_WORST_EVER_60PLUSD_PAST_DUE','SUM_CASH_OUTFLOW_TRANSFERS',\n",
    "'AGE_OLDEST_BANKCARD_TRADE','COUNT_NEG_BAL_OCC_0_30','SUM_UTILITIES_EXPENSE_TXN','AVG_UTILITIES_EXPENSE_TXN','COUNT_TELECOM_EXPENSE_TXN_0_30','SUM_SALARY_INCOME_TXN_0_365',\n",
    "'TOT_BAL_REVOLVING_TRADES','NUM_OPEN_BANKCARD_TRADES_UTIL_GTE_75PCT','PCT_REVOLVING_TRADES_GOOD_6M_TO_REVOLVING_TRADES_6M']"
   ]
  }
 ],
 "metadata": {
  "kernelspec": {
   "display_name": "snowpark-de-ml",
   "language": "python",
   "name": "python3"
  },
  "language_info": {
   "codemirror_mode": {
    "name": "ipython",
    "version": 3
   },
   "file_extension": ".py",
   "mimetype": "text/x-python",
   "name": "python",
   "nbconvert_exporter": "python",
   "pygments_lexer": "ipython3",
   "version": "3.9.17"
  },
  "orig_nbformat": 4
 },
 "nbformat": 4,
 "nbformat_minor": 2
}
